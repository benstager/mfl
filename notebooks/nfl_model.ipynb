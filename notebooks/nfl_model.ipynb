{
 "cells": [
  {
   "cell_type": "code",
   "execution_count": 9,
   "metadata": {},
   "outputs": [],
   "source": [
    "import nfl_data_py as nfl\n",
    "\n",
    "import pandas as pd\n",
    "import numpy as np\n",
    "\n",
    "from sklearn.decomposition import PCA\n",
    "from sklearn.linear_model import LogisticRegression\n",
    "from sklearn.svm import SVC, LinearSVC, NuSVC\n",
    "from sklearn.metrics import recall_score, precision_score, precision_recall_curve, f1_score, auc, confusion_matrix, accuracy_score, roc_auc_score, roc_curve\n",
    "from sklearn.model_selection import train_test_split, KFold, StratifiedKFold\n",
    "from sklearn.preprocessing import StandardScaler, MinMaxScaler\n",
    "from sklearn.ensemble import RandomForestClassifier\n",
    "from sklearn.feature_selection import SelectKBest\n",
    "\n",
    "from keras.layers import Dense, ReLU, Normalization, Dropout\n",
    "from keras.models import Sequential\n",
    "from keras.activations import relu, sigmoid\n",
    "from keras.losses import binary_crossentropy\n",
    "\n",
    "from xgboost import XGBClassifier\n",
    "\n",
    "import pickle\n",
    "import requests\n",
    "from bs4 import BeautifulSoup\n",
    "import seaborn as sns\n",
    "\n",
    "import time\n",
    "import os\n",
    "\n",
    "import warnings\n",
    "warnings.filterwarnings(\"ignore\")"
   ]
  },
  {
   "cell_type": "code",
   "execution_count": 66,
   "metadata": {},
   "outputs": [],
   "source": [
    "def save_model(model, file_name, cols):\n",
    "   \n",
    "    current_dir = os.path.dirname('nfl_model.ipynb')\n",
    "    parent_dir = os.path.abspath(os.path.join(current_dir, \"..\"))\n",
    "    csv_path = os.path.join(parent_dir, \"models\", f\"{file_name}.pkl\")\n",
    "\n",
    "    with open(csv_path, 'wb') as csv_path:\n",
    "        pickle.dump(model, csv_path)\n",
    "\n",
    "    #pd.DataFrame(cols).to_csv(csv_path, index=False)"
   ]
  },
  {
   "cell_type": "code",
   "execution_count": 11,
   "metadata": {},
   "outputs": [],
   "source": [
    "def reset_scaler(run_iter, cols_to_use):\n",
    "\n",
    "    current_dir = os.path.dirname('nfl_model.ipynb')\n",
    "    parent_dir = os.path.abspath(os.path.join(current_dir, \"..\"))\n",
    "    csv_path = os.path.join(parent_dir, \"data\", \"first_round_qb_training_data.csv\")\n",
    "    \n",
    "    df = pd.read_csv(csv_path)\n",
    "    df = df[df['AY/A'].isna() == False]\n",
    "\n",
    "    mappings = {False:0, True:1}\n",
    "    df['successful'] = df['successful'].apply(lambda bool: mappings[bool])\n",
    "\n",
    "    df_scale = df[['season', 'pick', 'age', 'seasons', 'G', 'Cmp', 'Att', 'Cmp%', 'Yds', 'TD', 'TD%', 'Int', 'Int%', 'Y/A', 'AY/A', 'Y/C', 'Y/G', 'Rate']]\n",
    "    scaled_cols = ['season', 'pick', 'age', 'seasons', 'G', 'Cmp', 'Att', 'Cmp%', 'Yds', 'TD', 'TD%', 'Int', 'Int%', 'Y/A', 'AY/A', 'Y/C', 'Y/G', 'Rate']\n",
    "    new_scaled_cols = df[['G', 'TD', 'pick', 'Int']]\n",
    "\n",
    "    scaler = StandardScaler()\n",
    "    scaled_df = scaler.fit_transform(new_scaled_cols)\n",
    "\n",
    "    scaler_path = f'scaler_{run_iter}.pkl'\n",
    "    csv_path = os.path.join(parent_dir, \"models\", scaler_path)\n",
    "    \n",
    "    with open(csv_path, 'wb') as csv_path:\n",
    "        pickle.dump(scaler, csv_path)"
   ]
  },
  {
   "cell_type": "code",
   "execution_count": 13,
   "metadata": {},
   "outputs": [],
   "source": [
    "current_dir = os.path.dirname('nfl_model.ipynb')\n",
    "parent_dir = os.path.abspath(os.path.join(current_dir, \"..\"))\n",
    "csv_path = os.path.join(parent_dir, \"data\", \"first_round_qb_training_data.csv\")"
   ]
  },
  {
   "cell_type": "code",
   "execution_count": 14,
   "metadata": {},
   "outputs": [],
   "source": [
    "df = pd.read_csv(csv_path)"
   ]
  },
  {
   "cell_type": "code",
   "execution_count": 16,
   "metadata": {},
   "outputs": [
    {
     "data": {
      "text/plain": [
       "Index(['player', 'season', 'round', 'pick', 'team', 'age', 'college',\n",
       "       'power_5', 'seasons', 'G', 'Cmp', 'Att', 'Cmp%', 'Yds', 'TD', 'TD%',\n",
       "       'Int', 'Int%', 'Y/A', 'AY/A', 'Y/C', 'Y/G', 'Rate', 'successful'],\n",
       "      dtype='object')"
      ]
     },
     "execution_count": 16,
     "metadata": {},
     "output_type": "execute_result"
    }
   ],
   "source": [
    "df.columns"
   ]
  },
  {
   "cell_type": "code",
   "execution_count": 22,
   "metadata": {},
   "outputs": [],
   "source": [
    "cols = ['G', 'TD', 'pick', 'Int', 'power_5']"
   ]
  },
  {
   "cell_type": "code",
   "execution_count": 50,
   "metadata": {},
   "outputs": [],
   "source": [
    "def load_data(run_iter, cols_to_use):\n",
    "\n",
    "    current_dir = os.path.dirname('nfl_model.ipynb')\n",
    "    parent_dir = os.path.abspath(os.path.join(current_dir, \"..\"))\n",
    "    csv_path = os.path.join(parent_dir, \"data\", \"first_round_qb_training_data.csv\")\n",
    "    \n",
    "    df = pd.read_csv(csv_path)\n",
    "    df = df[df['AY/A'].isna() == False]\n",
    "\n",
    "    mappings = {False:0, True:1}\n",
    "    df['successful'] = df['successful'].apply(lambda bool: mappings[bool])\n",
    "    df['power_5'] = df['power_5'].apply(lambda bool: mappings[bool])\n",
    "\n",
    "    df_final = df[cols_to_use]\n",
    "\n",
    "    scaler = StandardScaler()\n",
    "    scaled_df = scaler.fit_transform(df_final)\n",
    "\n",
    "    scaler_path = f'scaler_{run_iter}.pkl'\n",
    "    csv_path = os.path.join(parent_dir, \"models\", scaler_path)\n",
    "    \n",
    "    with open(csv_path, 'wb') as csv_path:\n",
    "        pickle.dump(scaler, csv_path)\n",
    "\n",
    "    final_df = pd.DataFrame()\n",
    "\n",
    "    for idx in range(len(cols_to_use)):\n",
    "        final_df[cols_to_use[idx]] = scaled_df[:,idx]\n",
    "    \n",
    "    final_df = pd.concat([final_df.reset_index(), df['successful'].reset_index()],axis=1).drop('index', axis=1)\n",
    "\n",
    "    return final_df"
   ]
  },
  {
   "cell_type": "code",
   "execution_count": 51,
   "metadata": {},
   "outputs": [],
   "source": [
    "df_final = load_data(7, cols)"
   ]
  },
  {
   "cell_type": "code",
   "execution_count": 52,
   "metadata": {},
   "outputs": [
    {
     "data": {
      "text/html": [
       "<div>\n",
       "<style scoped>\n",
       "    .dataframe tbody tr th:only-of-type {\n",
       "        vertical-align: middle;\n",
       "    }\n",
       "\n",
       "    .dataframe tbody tr th {\n",
       "        vertical-align: top;\n",
       "    }\n",
       "\n",
       "    .dataframe thead th {\n",
       "        text-align: right;\n",
       "    }\n",
       "</style>\n",
       "<table border=\"1\" class=\"dataframe\">\n",
       "  <thead>\n",
       "    <tr style=\"text-align: right;\">\n",
       "      <th></th>\n",
       "      <th>G</th>\n",
       "      <th>TD</th>\n",
       "      <th>pick</th>\n",
       "      <th>Int</th>\n",
       "      <th>power_5</th>\n",
       "      <th>successful</th>\n",
       "    </tr>\n",
       "  </thead>\n",
       "  <tbody>\n",
       "    <tr>\n",
       "      <th>0</th>\n",
       "      <td>-0.179415</td>\n",
       "      <td>1.035071</td>\n",
       "      <td>-0.956459</td>\n",
       "      <td>-0.427941</td>\n",
       "      <td>-2.104417</td>\n",
       "      <td>0</td>\n",
       "    </tr>\n",
       "    <tr>\n",
       "      <th>1</th>\n",
       "      <td>1.973565</td>\n",
       "      <td>1.035071</td>\n",
       "      <td>1.601577</td>\n",
       "      <td>-0.427941</td>\n",
       "      <td>0.475191</td>\n",
       "      <td>0</td>\n",
       "    </tr>\n",
       "    <tr>\n",
       "      <th>2</th>\n",
       "      <td>0.627953</td>\n",
       "      <td>-0.314580</td>\n",
       "      <td>-0.210365</td>\n",
       "      <td>1.688315</td>\n",
       "      <td>0.475191</td>\n",
       "      <td>0</td>\n",
       "    </tr>\n",
       "    <tr>\n",
       "      <th>3</th>\n",
       "      <td>-0.179415</td>\n",
       "      <td>-0.815879</td>\n",
       "      <td>0.002805</td>\n",
       "      <td>-0.205177</td>\n",
       "      <td>0.475191</td>\n",
       "      <td>0</td>\n",
       "    </tr>\n",
       "    <tr>\n",
       "      <th>4</th>\n",
       "      <td>0.179415</td>\n",
       "      <td>-0.468826</td>\n",
       "      <td>0.215975</td>\n",
       "      <td>1.131405</td>\n",
       "      <td>0.475191</td>\n",
       "      <td>0</td>\n",
       "    </tr>\n",
       "    <tr>\n",
       "      <th>5</th>\n",
       "      <td>0.448538</td>\n",
       "      <td>0.803702</td>\n",
       "      <td>-0.956459</td>\n",
       "      <td>0.240350</td>\n",
       "      <td>0.475191</td>\n",
       "      <td>1</td>\n",
       "    </tr>\n",
       "    <tr>\n",
       "      <th>6</th>\n",
       "      <td>0.717660</td>\n",
       "      <td>0.649456</td>\n",
       "      <td>-0.849874</td>\n",
       "      <td>-0.316559</td>\n",
       "      <td>0.475191</td>\n",
       "      <td>0</td>\n",
       "    </tr>\n",
       "    <tr>\n",
       "      <th>7</th>\n",
       "      <td>1.525028</td>\n",
       "      <td>-0.738756</td>\n",
       "      <td>-0.210365</td>\n",
       "      <td>0.128968</td>\n",
       "      <td>0.475191</td>\n",
       "      <td>1</td>\n",
       "    </tr>\n",
       "    <tr>\n",
       "      <th>8</th>\n",
       "      <td>-0.269123</td>\n",
       "      <td>0.533772</td>\n",
       "      <td>1.281823</td>\n",
       "      <td>0.797260</td>\n",
       "      <td>0.475191</td>\n",
       "      <td>0</td>\n",
       "    </tr>\n",
       "    <tr>\n",
       "      <th>9</th>\n",
       "      <td>0.897075</td>\n",
       "      <td>-0.545949</td>\n",
       "      <td>0.642314</td>\n",
       "      <td>0.908642</td>\n",
       "      <td>0.475191</td>\n",
       "      <td>0</td>\n",
       "    </tr>\n",
       "    <tr>\n",
       "      <th>10</th>\n",
       "      <td>0.358830</td>\n",
       "      <td>-0.198896</td>\n",
       "      <td>-0.743289</td>\n",
       "      <td>-0.093795</td>\n",
       "      <td>-2.104417</td>\n",
       "      <td>1</td>\n",
       "    </tr>\n",
       "    <tr>\n",
       "      <th>11</th>\n",
       "      <td>-0.627953</td>\n",
       "      <td>0.071034</td>\n",
       "      <td>1.281823</td>\n",
       "      <td>0.240350</td>\n",
       "      <td>0.475191</td>\n",
       "      <td>0</td>\n",
       "    </tr>\n",
       "    <tr>\n",
       "      <th>12</th>\n",
       "      <td>0.538245</td>\n",
       "      <td>0.418087</td>\n",
       "      <td>2.347671</td>\n",
       "      <td>0.463114</td>\n",
       "      <td>0.475191</td>\n",
       "      <td>0</td>\n",
       "    </tr>\n",
       "    <tr>\n",
       "      <th>13</th>\n",
       "      <td>-0.538245</td>\n",
       "      <td>0.148157</td>\n",
       "      <td>-0.956459</td>\n",
       "      <td>0.908642</td>\n",
       "      <td>0.475191</td>\n",
       "      <td>0</td>\n",
       "    </tr>\n",
       "    <tr>\n",
       "      <th>14</th>\n",
       "      <td>0.717660</td>\n",
       "      <td>1.690615</td>\n",
       "      <td>-0.849874</td>\n",
       "      <td>-0.650705</td>\n",
       "      <td>0.475191</td>\n",
       "      <td>1</td>\n",
       "    </tr>\n",
       "    <tr>\n",
       "      <th>15</th>\n",
       "      <td>0.358830</td>\n",
       "      <td>1.343562</td>\n",
       "      <td>-0.956459</td>\n",
       "      <td>1.131405</td>\n",
       "      <td>0.475191</td>\n",
       "      <td>1</td>\n",
       "    </tr>\n",
       "    <tr>\n",
       "      <th>16</th>\n",
       "      <td>0.448538</td>\n",
       "      <td>-0.083212</td>\n",
       "      <td>1.708162</td>\n",
       "      <td>0.351732</td>\n",
       "      <td>-2.104417</td>\n",
       "      <td>0</td>\n",
       "    </tr>\n",
       "    <tr>\n",
       "      <th>17</th>\n",
       "      <td>1.704443</td>\n",
       "      <td>0.765140</td>\n",
       "      <td>1.068653</td>\n",
       "      <td>1.354169</td>\n",
       "      <td>0.475191</td>\n",
       "      <td>0</td>\n",
       "    </tr>\n",
       "    <tr>\n",
       "      <th>18</th>\n",
       "      <td>0.627953</td>\n",
       "      <td>1.112194</td>\n",
       "      <td>-0.956459</td>\n",
       "      <td>-0.316559</td>\n",
       "      <td>0.475191</td>\n",
       "      <td>1</td>\n",
       "    </tr>\n",
       "    <tr>\n",
       "      <th>19</th>\n",
       "      <td>-0.269123</td>\n",
       "      <td>-0.198896</td>\n",
       "      <td>-0.849874</td>\n",
       "      <td>-0.539323</td>\n",
       "      <td>0.475191</td>\n",
       "      <td>0</td>\n",
       "    </tr>\n",
       "    <tr>\n",
       "      <th>20</th>\n",
       "      <td>-0.986783</td>\n",
       "      <td>0.071034</td>\n",
       "      <td>0.109390</td>\n",
       "      <td>-1.207614</td>\n",
       "      <td>0.475191</td>\n",
       "      <td>0</td>\n",
       "    </tr>\n",
       "    <tr>\n",
       "      <th>21</th>\n",
       "      <td>0.538245</td>\n",
       "      <td>-0.198896</td>\n",
       "      <td>0.535729</td>\n",
       "      <td>-1.430378</td>\n",
       "      <td>0.475191</td>\n",
       "      <td>0</td>\n",
       "    </tr>\n",
       "    <tr>\n",
       "      <th>22</th>\n",
       "      <td>0.000000</td>\n",
       "      <td>0.996509</td>\n",
       "      <td>-0.530119</td>\n",
       "      <td>-0.984850</td>\n",
       "      <td>0.475191</td>\n",
       "      <td>1</td>\n",
       "    </tr>\n",
       "    <tr>\n",
       "      <th>23</th>\n",
       "      <td>0.986783</td>\n",
       "      <td>1.305001</td>\n",
       "      <td>-0.423535</td>\n",
       "      <td>0.351732</td>\n",
       "      <td>0.475191</td>\n",
       "      <td>1</td>\n",
       "    </tr>\n",
       "    <tr>\n",
       "      <th>24</th>\n",
       "      <td>0.448538</td>\n",
       "      <td>-0.044650</td>\n",
       "      <td>1.708162</td>\n",
       "      <td>1.020024</td>\n",
       "      <td>-2.104417</td>\n",
       "      <td>1</td>\n",
       "    </tr>\n",
       "    <tr>\n",
       "      <th>25</th>\n",
       "      <td>0.269123</td>\n",
       "      <td>-0.353142</td>\n",
       "      <td>-0.423535</td>\n",
       "      <td>1.020024</td>\n",
       "      <td>0.475191</td>\n",
       "      <td>0</td>\n",
       "    </tr>\n",
       "    <tr>\n",
       "      <th>26</th>\n",
       "      <td>-0.986783</td>\n",
       "      <td>-0.276019</td>\n",
       "      <td>0.535729</td>\n",
       "      <td>-1.207614</td>\n",
       "      <td>0.475191</td>\n",
       "      <td>0</td>\n",
       "    </tr>\n",
       "    <tr>\n",
       "      <th>27</th>\n",
       "      <td>-2.242688</td>\n",
       "      <td>-1.895600</td>\n",
       "      <td>-0.956459</td>\n",
       "      <td>-1.207614</td>\n",
       "      <td>-2.104417</td>\n",
       "      <td>1</td>\n",
       "    </tr>\n",
       "    <tr>\n",
       "      <th>28</th>\n",
       "      <td>-0.538245</td>\n",
       "      <td>-0.160334</td>\n",
       "      <td>-0.743289</td>\n",
       "      <td>0.240350</td>\n",
       "      <td>0.475191</td>\n",
       "      <td>0</td>\n",
       "    </tr>\n",
       "    <tr>\n",
       "      <th>29</th>\n",
       "      <td>-0.538245</td>\n",
       "      <td>-0.661633</td>\n",
       "      <td>-0.316950</td>\n",
       "      <td>0.128968</td>\n",
       "      <td>-2.104417</td>\n",
       "      <td>1</td>\n",
       "    </tr>\n",
       "    <tr>\n",
       "      <th>30</th>\n",
       "      <td>-0.269123</td>\n",
       "      <td>-0.083212</td>\n",
       "      <td>0.002805</td>\n",
       "      <td>0.685878</td>\n",
       "      <td>0.475191</td>\n",
       "      <td>0</td>\n",
       "    </tr>\n",
       "    <tr>\n",
       "      <th>31</th>\n",
       "      <td>0.448538</td>\n",
       "      <td>0.302403</td>\n",
       "      <td>2.347671</td>\n",
       "      <td>0.797260</td>\n",
       "      <td>0.475191</td>\n",
       "      <td>1</td>\n",
       "    </tr>\n",
       "    <tr>\n",
       "      <th>32</th>\n",
       "      <td>0.089708</td>\n",
       "      <td>-0.777318</td>\n",
       "      <td>-0.849874</td>\n",
       "      <td>-1.096232</td>\n",
       "      <td>0.475191</td>\n",
       "      <td>0</td>\n",
       "    </tr>\n",
       "    <tr>\n",
       "      <th>33</th>\n",
       "      <td>-0.089708</td>\n",
       "      <td>1.227878</td>\n",
       "      <td>0.002805</td>\n",
       "      <td>1.020024</td>\n",
       "      <td>0.475191</td>\n",
       "      <td>1</td>\n",
       "    </tr>\n",
       "    <tr>\n",
       "      <th>34</th>\n",
       "      <td>0.448538</td>\n",
       "      <td>1.112194</td>\n",
       "      <td>0.215975</td>\n",
       "      <td>1.354169</td>\n",
       "      <td>0.475191</td>\n",
       "      <td>1</td>\n",
       "    </tr>\n",
       "    <tr>\n",
       "      <th>35</th>\n",
       "      <td>-2.422103</td>\n",
       "      <td>-2.358337</td>\n",
       "      <td>-0.956459</td>\n",
       "      <td>-2.210051</td>\n",
       "      <td>0.475191</td>\n",
       "      <td>1</td>\n",
       "    </tr>\n",
       "    <tr>\n",
       "      <th>36</th>\n",
       "      <td>-1.973565</td>\n",
       "      <td>-2.281214</td>\n",
       "      <td>-0.956459</td>\n",
       "      <td>-2.210051</td>\n",
       "      <td>0.475191</td>\n",
       "      <td>1</td>\n",
       "    </tr>\n",
       "    <tr>\n",
       "      <th>37</th>\n",
       "      <td>-2.242688</td>\n",
       "      <td>-2.165530</td>\n",
       "      <td>-0.956459</td>\n",
       "      <td>-1.430378</td>\n",
       "      <td>-2.104417</td>\n",
       "      <td>1</td>\n",
       "    </tr>\n",
       "  </tbody>\n",
       "</table>\n",
       "</div>"
      ],
      "text/plain": [
       "           G        TD      pick       Int   power_5  successful\n",
       "0  -0.179415  1.035071 -0.956459 -0.427941 -2.104417           0\n",
       "1   1.973565  1.035071  1.601577 -0.427941  0.475191           0\n",
       "2   0.627953 -0.314580 -0.210365  1.688315  0.475191           0\n",
       "3  -0.179415 -0.815879  0.002805 -0.205177  0.475191           0\n",
       "4   0.179415 -0.468826  0.215975  1.131405  0.475191           0\n",
       "5   0.448538  0.803702 -0.956459  0.240350  0.475191           1\n",
       "6   0.717660  0.649456 -0.849874 -0.316559  0.475191           0\n",
       "7   1.525028 -0.738756 -0.210365  0.128968  0.475191           1\n",
       "8  -0.269123  0.533772  1.281823  0.797260  0.475191           0\n",
       "9   0.897075 -0.545949  0.642314  0.908642  0.475191           0\n",
       "10  0.358830 -0.198896 -0.743289 -0.093795 -2.104417           1\n",
       "11 -0.627953  0.071034  1.281823  0.240350  0.475191           0\n",
       "12  0.538245  0.418087  2.347671  0.463114  0.475191           0\n",
       "13 -0.538245  0.148157 -0.956459  0.908642  0.475191           0\n",
       "14  0.717660  1.690615 -0.849874 -0.650705  0.475191           1\n",
       "15  0.358830  1.343562 -0.956459  1.131405  0.475191           1\n",
       "16  0.448538 -0.083212  1.708162  0.351732 -2.104417           0\n",
       "17  1.704443  0.765140  1.068653  1.354169  0.475191           0\n",
       "18  0.627953  1.112194 -0.956459 -0.316559  0.475191           1\n",
       "19 -0.269123 -0.198896 -0.849874 -0.539323  0.475191           0\n",
       "20 -0.986783  0.071034  0.109390 -1.207614  0.475191           0\n",
       "21  0.538245 -0.198896  0.535729 -1.430378  0.475191           0\n",
       "22  0.000000  0.996509 -0.530119 -0.984850  0.475191           1\n",
       "23  0.986783  1.305001 -0.423535  0.351732  0.475191           1\n",
       "24  0.448538 -0.044650  1.708162  1.020024 -2.104417           1\n",
       "25  0.269123 -0.353142 -0.423535  1.020024  0.475191           0\n",
       "26 -0.986783 -0.276019  0.535729 -1.207614  0.475191           0\n",
       "27 -2.242688 -1.895600 -0.956459 -1.207614 -2.104417           1\n",
       "28 -0.538245 -0.160334 -0.743289  0.240350  0.475191           0\n",
       "29 -0.538245 -0.661633 -0.316950  0.128968 -2.104417           1\n",
       "30 -0.269123 -0.083212  0.002805  0.685878  0.475191           0\n",
       "31  0.448538  0.302403  2.347671  0.797260  0.475191           1\n",
       "32  0.089708 -0.777318 -0.849874 -1.096232  0.475191           0\n",
       "33 -0.089708  1.227878  0.002805  1.020024  0.475191           1\n",
       "34  0.448538  1.112194  0.215975  1.354169  0.475191           1\n",
       "35 -2.422103 -2.358337 -0.956459 -2.210051  0.475191           1\n",
       "36 -1.973565 -2.281214 -0.956459 -2.210051  0.475191           1\n",
       "37 -2.242688 -2.165530 -0.956459 -1.430378 -2.104417           1"
      ]
     },
     "execution_count": 52,
     "metadata": {},
     "output_type": "execute_result"
    }
   ],
   "source": [
    "df_final"
   ]
  },
  {
   "cell_type": "code",
   "execution_count": 34,
   "metadata": {},
   "outputs": [],
   "source": [
    "def load_data_unscaled():\n",
    "\n",
    "    current_dir = os.path.dirname('nfl_model.ipynb')\n",
    "    parent_dir = os.path.abspath(os.path.join(current_dir, \"..\"))\n",
    "    csv_path = os.path.join(parent_dir, \"data\", \"first_round_qb_training_data.csv\")\n",
    "    \n",
    "    df = pd.read_csv(csv_path)\n",
    "    df = df[df['AY/A'].isna() == False]\n",
    "    df = df[['power_5', 'season', 'pick', 'age', 'seasons', 'G', 'Cmp', 'Att', 'Cmp%', 'Yds', 'TD', 'TD%', 'Int', 'Int%', 'Y/A', 'AY/A', 'Y/C', 'Y/G', 'Rate', 'successful']]\n",
    "\n",
    "    mappings = {False:0, True:1}\n",
    "    df['successful'] = df['successful'].apply(lambda bool: mappings[bool])\n",
    "    df['successful'] = df['successful'].apply(lambda bool: mappings[bool])\n",
    "    df['power_5'] = df['power_5'].apply(lambda bool: mappings[bool])\n",
    "\n",
    "    return df"
   ]
  },
  {
   "cell_type": "code",
   "execution_count": 235,
   "metadata": {},
   "outputs": [],
   "source": [
    "def extract_passing_table(player_name):\n",
    "\n",
    "    first_name = player_name.split(' ')[0].lower()\n",
    "    last_name = player_name.split(' ')[1].lower()\n",
    "    player_url = f'https://www.sports-reference.com/cfb/players/{first_name}-{last_name}-1.html'\n",
    "    html_content = requests.get(player_url).text\n",
    "    \n",
    "    if player_name == 'Zach Wilson':\n",
    "        first_name = player_name.split(' ')[0].lower()\n",
    "        last_name = player_name.split(' ')[1].lower()\n",
    "        player_url = f'https://www.sports-reference.com/cfb/players/{first_name}-{last_name}-3.html'\n",
    "        html_content = requests.get(player_url).text\n",
    "        \n",
    "    if player_name == 'Justin Fields' or player_name == 'Jordan Love':\n",
    "        first_name = player_name.split(' ')[0].lower()\n",
    "        last_name = player_name.split(' ')[1].lower()\n",
    "        player_url = f'https://www.sports-reference.com/cfb/players/{first_name}-{last_name}-2.html'\n",
    "        html_content = requests.get(player_url).text\n",
    "    \n",
    "    if player_name == 'Daniel Jones':\n",
    "        first_name = player_name.split(' ')[0].lower()\n",
    "        last_name = player_name.split(' ')[1].lower()\n",
    "        player_url = f'https://www.sports-reference.com/cfb/players/{first_name}-{last_name}-4.html'\n",
    "        html_content = requests.get(player_url).text\n",
    "    \n",
    "    if player_name == 'Josh Allen':\n",
    "        first_name = player_name.split(' ')[0].lower()\n",
    "        last_name = player_name.split(' ')[1].lower()\n",
    "        player_url = f'https://www.sports-reference.com/cfb/players/{first_name}-{last_name}-7.html'\n",
    "        html_content = requests.get(player_url).text\n",
    "\n",
    "    if player_name == 'Mitchell Trubisky':\n",
    "        first_name = player_name.split(' ')[0].lower()\n",
    "        first_name = 'Mitch'\n",
    "        last_name = player_name.split(' ')[1].lower()\n",
    "        player_url = 'https://www.sports-reference.com/cfb/players/mitch-trubisky-1.html'\n",
    "        html_content = requests.get(player_url).text\n",
    "\n",
    "    if player_name == 'Caleb Williams':\n",
    "        first_name = player_name.split(' ')[0].lower()\n",
    "        first_name = 'Mitch'\n",
    "        last_name = player_name.split(' ')[1].lower()\n",
    "        player_url = 'https://www.sports-reference.com/cfb/players/caleb-williams-3.html'\n",
    "        html_content = requests.get(player_url).text\n",
    "\n",
    "    if player_name == 'Anthony Richardson':\n",
    "        first_name = player_name.split(' ')[0].lower()\n",
    "        first_name = 'Mitch'\n",
    "        last_name = player_name.split(' ')[1].lower()\n",
    "        player_url = 'https://www.sports-reference.com/cfb/players/anthony-richardson-2.html'\n",
    "        html_content = requests.get(player_url).text\n",
    "\n",
    "    if len(player_name.split(' ')) > 2:\n",
    "        first_name = player_name.split(' ')[0].lower()\n",
    "        last_name = player_name.split(' ')[1].lower()\n",
    "        suffix = player_name.split(' ')[2].lower()\n",
    "        player_url = f'https://www.sports-reference.com/cfb/players/{first_name}-{last_name}-{suffix}-1.html'\n",
    "        html_content = requests.get(player_url).text\n",
    "    \n",
    "    soup = BeautifulSoup(html_content, 'html.parser')\n",
    "    table = soup.find('table', {'id': 'passing_standard'})\n",
    "    \n",
    "    if not table:\n",
    "        print(\"Passing stats table not found\")\n",
    "        return None\n",
    "\n",
    "    baseline_headers = []\n",
    "    headers = [th.getText() for th in table.find_all('th')]\n",
    "    rows = []\n",
    "    \n",
    "    for tr in table.find_all('tr')[1:]:\n",
    "        cells = [td.getText() for td in tr.find_all('td')]\n",
    "        if cells: \n",
    "            rows.append(cells)\n",
    "    \n",
    "    yr_college = len(rows) - 1\n",
    "\n",
    "    column_names = [\n",
    "    'G',        \n",
    "    'Cmp',      \n",
    "    'Att',      \n",
    "    'Cmp%',     \n",
    "    'Yds',      \n",
    "    'TD',       \n",
    "    'TD%',      \n",
    "    'Int',      \n",
    "    'Int%',     \n",
    "    'Y/A',      \n",
    "    'AY/A',     \n",
    "    'Y/C',      \n",
    "    'Y/G',      \n",
    "    'Rate',\n",
    "    'seasons',\n",
    "    'name'\n",
    "    ]\n",
    "    \n",
    "    totals = rows[len(rows)-1]\n",
    "    totals = [stat for stat in totals if stat.strip()]\n",
    "    totals.append(yr_college)\n",
    "    totals.append(player_name)\n",
    "\n",
    "    if len(totals) == len(column_names):\n",
    "        final = pd.DataFrame({name: [value] for name, value in zip(column_names, totals)})\n",
    "    else:\n",
    "        print(\"Error: Number of stats does not match number of column names.\")\n",
    "\n",
    "    return final"
   ]
  },
  {
   "cell_type": "code",
   "execution_count": 291,
   "metadata": {},
   "outputs": [],
   "source": [
    "def predict_in_sample_player(player_name):\n",
    "    features = pd.read_csv('first_round_features_responses.csv')\n",
    "    df = pd.read_csv('first_round_qb_training_data.csv')\n",
    "    \n",
    "    df = df[df['AY/A'].isna() == False]\n",
    "    features['player_name'] = np.array(df['player'].values)\n",
    "\n",
    "    sample = features[features['player_name'] == player_name]\n",
    "\n",
    "    with open('SVM_model_0.pkl', 'rb') as file_path:\n",
    "        model = pickle.load(file_path)\n",
    "    \n",
    "    mapping = {0:'a bust', 1:'not a bust'}\n",
    "    response = model.predict(sample.drop(['successful', 'player_name'][['G', 'seasons', 'TD', 'pick']], axis=1))[0]\n",
    "    str_response = mapping[response]\n",
    "    \n",
    "    print(f'Model says that {player_name} is {str_response}')\n",
    "    return response"
   ]
  },
  {
   "cell_type": "code",
   "execution_count": 299,
   "metadata": {},
   "outputs": [],
   "source": [
    "player_name = 'Shedeur Sanders'\n",
    "raw_data = extract_passing_table(player_name)"
   ]
  },
  {
   "cell_type": "code",
   "execution_count": 304,
   "metadata": {},
   "outputs": [],
   "source": [
    "def predict_out_sample_player_test(player_name):\n",
    "\n",
    "    # testing for Caleb Williams / Drake Maye\n",
    "    raw_data['age'] = 22\n",
    "    raw_data['pick'] = 1\n",
    "    raw_data['power_5'] = True\n",
    "    raw_data['season'] = 2024\n",
    "    df = raw_data\n",
    "\n",
    "    new_data = pd.DataFrame()\n",
    "    \n",
    "    for i in ['season', 'pick', 'age', 'seasons', 'G', 'Cmp', 'Att', 'Cmp%', 'Yds', 'TD', 'TD%', 'Int', 'Int%', 'Y/A', 'AY/A', 'Y/C', 'Y/G', 'Rate']:\n",
    "        new_data[i] = raw_data[i]\n",
    "    \n",
    "    with open('models/scaler.pkl', 'rb') as file_path:\n",
    "        scaler = pickle.load(file_path)\n",
    "    x = scaler.transform(new_data)\n",
    "\n",
    "    \n",
    "    power_5 = 1\n",
    "    feature_subset=['G', 'TD', 'pick', 'Int', 'power_5']\n",
    "    sample = [x[0][4], x[0][9], x[0][1], x[0][11], power_5]\n",
    "    mappings = {False:0, True:1}\n",
    "\n",
    "    mappings = {False:0, True:1}\n",
    "    df['power_5'] = df['power_5'].apply(lambda bool: mappings[bool])\n",
    "\n",
    "    predict_sample =  [x[0][4], x[0][9], x[0][1], x[0][11], power_5]\n",
    "\n",
    "    with open('models/SVM_model_1.pkl', 'rb') as file_path:\n",
    "        model = pickle.load(file_path)\n",
    "\n",
    "    sample = model.predict(np.array(predict_sample).reshape(1,-1))\n",
    "    prob = model.predict_proba(np.array(predict_sample).reshape(1,-1))\n",
    "    \n",
    "    return sample, prob\n"
   ]
  },
  {
   "cell_type": "code",
   "execution_count": 438,
   "metadata": {},
   "outputs": [],
   "source": [
    "player_name = 'Caleb Williams'\n",
    "raw_data = extract_passing_table(player_name)"
   ]
  },
  {
   "cell_type": "code",
   "execution_count": 440,
   "metadata": {},
   "outputs": [],
   "source": [
    "def predict_out_sample_player_test_new(player_name):\n",
    "\n",
    "    #feature_subset=['G', 'TD', 'pick', 'Int', 'power_5']\n",
    "    #feature_subset=['G', 'TD', 'pick', 'Int', 'power_5', 'seasons']\n",
    "    # testing for Caleb Williams / Drake Maye\n",
    "    raw_data['pick'] = 1\n",
    "    raw_data['power_5'] = 1\n",
    "\n",
    "    with open('models/SVM_model_3.pkl', 'rb') as file_path:\n",
    "        model = pickle.load(file_path)\n",
    "\n",
    "    predict_sample = [int(raw_data['G'].values[0]), int(raw_data['TD'].values[0]), int(raw_data['pick'].values[0]), int(raw_data['Int'].values[0]), int(raw_data['power_5'].values[0]), int(raw_data['seasons'].values[0])]\n",
    "    print(predict_sample)\n",
    "    sample = model.predict(np.array(predict_sample).reshape(1,-1))\n",
    "    prob = model.predict_proba(np.array(predict_sample).reshape(1,-1))\n",
    "    \n",
    "    return sample, prob\n"
   ]
  },
  {
   "cell_type": "code",
   "execution_count": 441,
   "metadata": {},
   "outputs": [
    {
     "name": "stdout",
     "output_type": "stream",
     "text": [
      "[26, 72, 1, 10, 1, 6]\n",
      "[0]\n",
      "[[0.62534866 0.37465134]]\n"
     ]
    }
   ],
   "source": [
    "test = predict_out_sample_player_test_new('test')\n",
    "print(test[0])\n",
    "print(test[1])"
   ]
  },
  {
   "cell_type": "code",
   "execution_count": 305,
   "metadata": {},
   "outputs": [
    {
     "name": "stderr",
     "output_type": "stream",
     "text": [
      "/Library/Frameworks/Python.framework/Versions/3.11/lib/python3.11/site-packages/sklearn/base.py:439: UserWarning: X does not have valid feature names, but SVC was fitted with feature names\n",
      "  warnings.warn(\n",
      "/Library/Frameworks/Python.framework/Versions/3.11/lib/python3.11/site-packages/sklearn/base.py:439: UserWarning: X does not have valid feature names, but SVC was fitted with feature names\n",
      "  warnings.warn(\n"
     ]
    }
   ],
   "source": [
    "test = predict_out_sample_player_test('Shedeur Sanders')\n",
    "print(test[0])\n",
    "print(test[1])"
   ]
  },
  {
   "cell_type": "code",
   "execution_count": 37,
   "metadata": {},
   "outputs": [],
   "source": [
    "def create_training_data(df_final, feature_subset=[]):\n",
    "    if feature_subset == []:\n",
    "        X_train, X_test, y_train, y_test = train_test_split(df_final.drop('successful', axis=1), df_final['successful'], test_size=.3, stratify=df_final['successful'])\n",
    "    else:\n",
    "        X_train, X_test, y_train, y_test = train_test_split(df_final[feature_subset], df_final['successful'], test_size=.3, stratify=df_final['successful'])\n",
    "\n",
    "    return X_train, X_test, y_train, y_test"
   ]
  },
  {
   "cell_type": "markdown",
   "metadata": {},
   "source": [
    "# model mess around space"
   ]
  },
  {
   "cell_type": "code",
   "execution_count": 35,
   "metadata": {},
   "outputs": [
    {
     "data": {
      "text/plain": [
       "Index(['G', 'TD', 'pick', 'Int', 'power_5'], dtype='object')"
      ]
     },
     "execution_count": 35,
     "metadata": {},
     "output_type": "execute_result"
    }
   ],
   "source": [
    "df_final = load_data(8, cols)\n",
    "df_final.columns"
   ]
  },
  {
   "cell_type": "code",
   "execution_count": 144,
   "metadata": {},
   "outputs": [],
   "source": [
    "X_new = SelectKBest(k=8).fit_transform(df_final.drop('successful',axis=1), df_final['successful'])\n",
    "df_testing = pd.concat([pd.DataFrame(X_new).reset_index(), df_final['successful'].reset_index()],axis=1).reset_index().drop(['index','level_0'],axis=1)\n",
    "X_train, X_test, y_train, y_test = train_test_split(df_testing.drop('successful',axis=1), df_testing['successful'], stratify=df_testing['successful'], test_size=.3)"
   ]
  },
  {
   "cell_type": "code",
   "execution_count": 54,
   "metadata": {},
   "outputs": [],
   "source": [
    "X_train, X_test, y_train, y_test = create_training_data(df_final, feature_subset=[])"
   ]
  },
  {
   "cell_type": "code",
   "execution_count": 58,
   "metadata": {},
   "outputs": [
    {
     "name": "stdout",
     "output_type": "stream",
     "text": [
      "Accuracy: 0.8416666666666667, ROC: 0.8820833333333334\n"
     ]
    }
   ],
   "source": [
    "def run_SVC(X_train, X_test, y_train, y_test):\n",
    "    \n",
    "    df_features = pd.concat([X_train, X_test])\n",
    "    df_responses = pd.concat([y_train, y_test])\n",
    "\n",
    "    k_strat = StratifiedKFold(n_splits=4, shuffle=False)\n",
    "    folds = k_strat.split(df_features, df_responses)\n",
    "    \n",
    "    acc = []\n",
    "    roc = []\n",
    "    \n",
    "    for train, test in folds:\n",
    "        \n",
    "        X_train, X_test = df_features.iloc[train], df_features.iloc[test]\n",
    "        y_train, y_test = df_responses.values[train], df_responses.values[test]\n",
    "        \n",
    "        model = SVC(kernel='rbf', probability=True)\n",
    "        \n",
    "        model.fit(X_train, y_train)\n",
    "        y_preds = model.predict(X_test)\n",
    "        y_proba = model.predict_proba(X_test)\n",
    "\n",
    "        acc.append(accuracy_score(y_test, y_preds))\n",
    "        roc.append(roc_auc_score(y_test, y_proba[:,1]))\n",
    "    \n",
    "    print(f'Accuracy: {np.average(acc)}, ROC: {np.average(roc)}')\n",
    "\n",
    "    model.fit(df_features, df_responses)\n",
    "\n",
    "    return model, X_train.columns\n",
    "\n",
    "x = run_SVC(X_train, X_test, y_train, y_test)"
   ]
  },
  {
   "cell_type": "code",
   "execution_count": 67,
   "metadata": {},
   "outputs": [],
   "source": [
    "save_model(x[0], 'SVM_model_final', [])"
   ]
  },
  {
   "cell_type": "code",
   "execution_count": 59,
   "metadata": {},
   "outputs": [
    {
     "name": "stdout",
     "output_type": "stream",
     "text": [
      "Accuracy: 0.5535714285714285, ROC: 0.7458333333333333\n"
     ]
    }
   ],
   "source": [
    "def run_RF(X_train, X_test, y_train, y_test):\n",
    "\n",
    "    df_features = pd.concat([X_train, X_test])\n",
    "    df_responses = pd.concat([y_train, y_test])\n",
    "\n",
    "    k_strat = StratifiedKFold(n_splits=5, shuffle=False)\n",
    "    folds = k_strat.split(df_features, df_responses)\n",
    "    \n",
    "    acc = []\n",
    "    roc = []\n",
    "    \n",
    "    for train, test in folds:\n",
    "        \n",
    "        X_train, X_test = df_features.iloc[train], df_features.iloc[test]\n",
    "        y_train, y_test = df_responses.values[train], df_responses.values[test]\n",
    "        \n",
    "        model = XGBClassifier()\n",
    "        \n",
    "        model.fit(X_train, y_train)\n",
    "        y_preds = model.predict(X_test)\n",
    "        y_preds = (y_preds >= 5).astype(int)\n",
    "        y_proba = model.predict_proba(X_test)\n",
    "\n",
    "        acc.append(accuracy_score(y_test, y_preds))\n",
    "        roc.append(roc_auc_score(y_test, y_proba[:,1]))\n",
    "    \n",
    "    print(f'Accuracy: {np.average(acc)}, ROC: {np.average(roc)}')\n",
    "    feature_dict = {i:j for i, j in zip(X_train.columns, model.feature_importances_)}\n",
    "    \n",
    "run_RF(X_train, X_test, y_train, y_test)"
   ]
  },
  {
   "cell_type": "code",
   "execution_count": 60,
   "metadata": {},
   "outputs": [
    {
     "name": "stdout",
     "output_type": "stream",
     "text": [
      "Accuracy: 0.5535714285714285, ROC: 0.6525\n"
     ]
    }
   ],
   "source": [
    "def run_LR(X_train, X_test, y_train, y_test):\n",
    "    \n",
    "    df_features = pd.concat([X_train, X_test])\n",
    "    df_responses = pd.concat([y_train, y_test])\n",
    "\n",
    "    k_strat = StratifiedKFold(n_splits=5, shuffle=False)\n",
    "    folds = k_strat.split(df_features, df_responses)\n",
    "    \n",
    "    acc = []\n",
    "    roc = []\n",
    "    \n",
    "    for train, test in folds:\n",
    "        \n",
    "        X_train, X_test = df_features.iloc[train], df_features.iloc[test]\n",
    "        y_train, y_test = df_responses.values[train], df_responses.values[test]\n",
    "        \n",
    "        model = LogisticRegression()\n",
    "        \n",
    "        model.fit(X_train, y_train)\n",
    "        y_preds = model.predict(X_test)\n",
    "        y_preds = (y_preds >= 5).astype(int)\n",
    "        y_proba = model.predict_proba(X_test)\n",
    "\n",
    "        acc.append(accuracy_score(y_test, y_preds))\n",
    "        roc.append(roc_auc_score(y_test, y_proba[:,1]))\n",
    "    \n",
    "    print(f'Accuracy: {np.average(acc)}, ROC: {np.average(roc)}')\n",
    "\n",
    "run_LR(X_train, X_test, y_train, y_test)\n"
   ]
  },
  {
   "cell_type": "code",
   "execution_count": 61,
   "metadata": {},
   "outputs": [
    {
     "name": "stdout",
     "output_type": "stream",
     "text": [
      "---Linear Regresion---\n",
      "0.5833333333333334\n",
      "0.5142857142857142\n",
      "\n",
      "---SVM---\n",
      "0.7714285714285715\n",
      "0.8333333333333334\n",
      "\n",
      "---Random Forest---\n",
      "0.6666666666666666\n",
      "0.7\n",
      "\n",
      "1/1 [==============================] - 0s 418ms/step - loss: 0.6472\n",
      "1/1 [==============================] - 0s 46ms/step\n",
      "Neural Network\n",
      "0.5\n"
     ]
    }
   ],
   "source": [
    "model = LogisticRegression()\n",
    "model.fit(X_train, y_train)\n",
    "y_preds_LR = model.predict(X_test)\n",
    "y_probs_LR = model.predict_proba(X_test)\n",
    "\n",
    "accuracy_LR = accuracy_score(y_test, y_preds_LR)\n",
    "roc_LR = roc_auc_score(y_test, y_probs_LR[:,1])\n",
    "print('---Linear Regresion---')\n",
    "print(accuracy_LR)\n",
    "print(roc_LR)\n",
    "print()\n",
    "\n",
    "model = SVC(kernel='rbf', probability=True)\n",
    "model.fit(X_train, y_train)\n",
    "y_preds_SVC = model.predict(X_test)\n",
    "y_probs_SVC = model.predict_proba(X_test)[:,1]\n",
    "ROC = roc_auc_score(y_test, y_probs_SVC)\n",
    "\n",
    "y_preds_SVC = (y_preds_SVC >= .5).astype(int)\n",
    "accuracy_SVC = accuracy_score(y_test, y_preds_SVC)\n",
    "\n",
    "print('---SVM---')\n",
    "print(ROC)\n",
    "print(accuracy_SVC)\n",
    "print()\n",
    "\n",
    "model = RandomForestClassifier()\n",
    "model.fit(X_train, y_train)\n",
    "y_preds_RF = model.predict(X_test)\n",
    "y_probs_RF = model.predict_proba(X_test)\n",
    "\n",
    "accuracy_RF = accuracy_score(y_test, y_preds_RF)\n",
    "roc_RF = roc_auc_score(y_test, y_probs_RF[:,1])\n",
    "print('---Random Forest---')\n",
    "print(accuracy_RF)\n",
    "print(roc_RF)\n",
    "print()\n",
    "\n",
    "model = Sequential()\n",
    "\n",
    "model.add(Dense(units=32, input_dim=X_test.shape[1], activation='tanh'))\n",
    "model.add(Normalization())\n",
    "model.add(Dropout(.5))\n",
    "model.add(Dense(units=16, activation='tanh'))\n",
    "model.add(Normalization())\n",
    "model.add(Dense(units=1, activation='sigmoid'))\n",
    "\n",
    "model.compile(optimizer='adam', loss='binary_crossentropy')\n",
    "\n",
    "\n",
    "model.fit(X_train, y_train)\n",
    "y_preds_NN = model.predict(X_test)\n",
    "y_preds_NN = (y_preds_NN >= .5).astype(int)\n",
    "\n",
    "accuracy_NN = accuracy_score(y_test, y_preds_NN)\n",
    "\n",
    "print('Neural Network')\n",
    "print(accuracy_NN)"
   ]
  },
  {
   "cell_type": "code",
   "execution_count": 1153,
   "metadata": {},
   "outputs": [
    {
     "name": "stdout",
     "output_type": "stream",
     "text": [
      "---Random Forest---\n",
      "0.8333333333333334\n",
      "0.8714285714285714\n",
      "\n"
     ]
    }
   ],
   "source": [
    "model = RandomForestClassifier()\n",
    "model.fit(X_train, y_train)\n",
    "y_preds_RF = model.predict(X_test)\n",
    "y_probs_RF = model.predict_proba(X_test)\n",
    "\n",
    "accuracy_RF = accuracy_score(y_test, y_preds_RF)\n",
    "roc_RF = roc_auc_score(y_test, y_probs_RF[:,1])\n",
    "print('---Random Forest---')\n",
    "print(accuracy_RF)\n",
    "print(roc_RF)\n",
    "print()"
   ]
  },
  {
   "cell_type": "code",
   "execution_count": 160,
   "metadata": {},
   "outputs": [
    {
     "name": "stdout",
     "output_type": "stream",
     "text": [
      "---SVM---\n",
      "0.6285714285714286\n",
      "0.5833333333333334\n",
      "\n"
     ]
    }
   ],
   "source": [
    "model = SVC(kernel='rbf', probability=True)\n",
    "model.fit(X_train, y_train)\n",
    "y_preds_SVC = model.predict(X_test)\n",
    "y_probs_SVC = model.predict_proba(X_test)[:,1]\n",
    "ROC = roc_auc_score(y_test, y_probs_SVC)\n",
    "\n",
    "y_preds_SVC = (y_preds_SVC >= .5).astype(int)\n",
    "accuracy_SVC = accuracy_score(y_test, y_preds_SVC)\n",
    "\n",
    "print('---SVM---')\n",
    "print(ROC)\n",
    "print(accuracy_SVC)\n",
    "print()"
   ]
  },
  {
   "cell_type": "code",
   "execution_count": 48,
   "metadata": {},
   "outputs": [
    {
     "data": {
      "text/html": [
       "<style>#sk-container-id-1 {color: black;background-color: white;}#sk-container-id-1 pre{padding: 0;}#sk-container-id-1 div.sk-toggleable {background-color: white;}#sk-container-id-1 label.sk-toggleable__label {cursor: pointer;display: block;width: 100%;margin-bottom: 0;padding: 0.3em;box-sizing: border-box;text-align: center;}#sk-container-id-1 label.sk-toggleable__label-arrow:before {content: \"▸\";float: left;margin-right: 0.25em;color: #696969;}#sk-container-id-1 label.sk-toggleable__label-arrow:hover:before {color: black;}#sk-container-id-1 div.sk-estimator:hover label.sk-toggleable__label-arrow:before {color: black;}#sk-container-id-1 div.sk-toggleable__content {max-height: 0;max-width: 0;overflow: hidden;text-align: left;background-color: #f0f8ff;}#sk-container-id-1 div.sk-toggleable__content pre {margin: 0.2em;color: black;border-radius: 0.25em;background-color: #f0f8ff;}#sk-container-id-1 input.sk-toggleable__control:checked~div.sk-toggleable__content {max-height: 200px;max-width: 100%;overflow: auto;}#sk-container-id-1 input.sk-toggleable__control:checked~label.sk-toggleable__label-arrow:before {content: \"▾\";}#sk-container-id-1 div.sk-estimator input.sk-toggleable__control:checked~label.sk-toggleable__label {background-color: #d4ebff;}#sk-container-id-1 div.sk-label input.sk-toggleable__control:checked~label.sk-toggleable__label {background-color: #d4ebff;}#sk-container-id-1 input.sk-hidden--visually {border: 0;clip: rect(1px 1px 1px 1px);clip: rect(1px, 1px, 1px, 1px);height: 1px;margin: -1px;overflow: hidden;padding: 0;position: absolute;width: 1px;}#sk-container-id-1 div.sk-estimator {font-family: monospace;background-color: #f0f8ff;border: 1px dotted black;border-radius: 0.25em;box-sizing: border-box;margin-bottom: 0.5em;}#sk-container-id-1 div.sk-estimator:hover {background-color: #d4ebff;}#sk-container-id-1 div.sk-parallel-item::after {content: \"\";width: 100%;border-bottom: 1px solid gray;flex-grow: 1;}#sk-container-id-1 div.sk-label:hover label.sk-toggleable__label {background-color: #d4ebff;}#sk-container-id-1 div.sk-serial::before {content: \"\";position: absolute;border-left: 1px solid gray;box-sizing: border-box;top: 0;bottom: 0;left: 50%;z-index: 0;}#sk-container-id-1 div.sk-serial {display: flex;flex-direction: column;align-items: center;background-color: white;padding-right: 0.2em;padding-left: 0.2em;position: relative;}#sk-container-id-1 div.sk-item {position: relative;z-index: 1;}#sk-container-id-1 div.sk-parallel {display: flex;align-items: stretch;justify-content: center;background-color: white;position: relative;}#sk-container-id-1 div.sk-item::before, #sk-container-id-1 div.sk-parallel-item::before {content: \"\";position: absolute;border-left: 1px solid gray;box-sizing: border-box;top: 0;bottom: 0;left: 50%;z-index: -1;}#sk-container-id-1 div.sk-parallel-item {display: flex;flex-direction: column;z-index: 1;position: relative;background-color: white;}#sk-container-id-1 div.sk-parallel-item:first-child::after {align-self: flex-end;width: 50%;}#sk-container-id-1 div.sk-parallel-item:last-child::after {align-self: flex-start;width: 50%;}#sk-container-id-1 div.sk-parallel-item:only-child::after {width: 0;}#sk-container-id-1 div.sk-dashed-wrapped {border: 1px dashed gray;margin: 0 0.4em 0.5em 0.4em;box-sizing: border-box;padding-bottom: 0.4em;background-color: white;}#sk-container-id-1 div.sk-label label {font-family: monospace;font-weight: bold;display: inline-block;line-height: 1.2em;}#sk-container-id-1 div.sk-label-container {text-align: center;}#sk-container-id-1 div.sk-container {/* jupyter's `normalize.less` sets `[hidden] { display: none; }` but bootstrap.min.css set `[hidden] { display: none !important; }` so we also need the `!important` here to be able to override the default hidden behavior on the sphinx rendered scikit-learn.org. See: https://github.com/scikit-learn/scikit-learn/issues/21755 */display: inline-block !important;position: relative;}#sk-container-id-1 div.sk-text-repr-fallback {display: none;}</style><div id=\"sk-container-id-1\" class=\"sk-top-container\"><div class=\"sk-text-repr-fallback\"><pre>SVC(probability=True)</pre><b>In a Jupyter environment, please rerun this cell to show the HTML representation or trust the notebook. <br />On GitHub, the HTML representation is unable to render, please try loading this page with nbviewer.org.</b></div><div class=\"sk-container\" hidden><div class=\"sk-item\"><div class=\"sk-estimator sk-toggleable\"><input class=\"sk-toggleable__control sk-hidden--visually\" id=\"sk-estimator-id-1\" type=\"checkbox\" checked><label for=\"sk-estimator-id-1\" class=\"sk-toggleable__label sk-toggleable__label-arrow\">SVC</label><div class=\"sk-toggleable__content\"><pre>SVC(probability=True)</pre></div></div></div></div></div>"
      ],
      "text/plain": [
       "SVC(probability=True)"
      ]
     },
     "execution_count": 48,
     "metadata": {},
     "output_type": "execute_result"
    }
   ],
   "source": [
    "model.fit(pd.concat([X_train, X_test]), pd.concat([y_train, y_test]))"
   ]
  },
  {
   "cell_type": "code",
   "execution_count": 221,
   "metadata": {},
   "outputs": [],
   "source": [
    "def save_model(model, file_name):\n",
    "\n",
    "    with open(file_name, 'wb') as file_path:\n",
    "        pickle.dump(model, file_path)"
   ]
  },
  {
   "cell_type": "code",
   "execution_count": 49,
   "metadata": {},
   "outputs": [],
   "source": [
    "with open('SVM_model_0.pkl', 'wb') as file_path:\n",
    "    pickle.dump(model, file_path)"
   ]
  },
  {
   "cell_type": "code",
   "execution_count": 162,
   "metadata": {},
   "outputs": [],
   "source": [
    "def run_baseline(df):\n",
    "\n",
    "    k_strat = StratifiedKFold(n_splits=5, shuffle=False)\n",
    "    folds = k_strat.split(df.drop('successful',axis=1), df['successful'])\n",
    "    acc = []\n",
    "    roc = []\n",
    "    \n",
    "    for train, test in folds:\n",
    "        X_train, X_test = df.drop('successful',axis=1).iloc[train], df.drop('successful',axis=1).iloc[test]\n",
    "        y_train, y_test = df['successful'].values[train], df['successful'].values[test]\n",
    "\n",
    "        y_preds = np.tile(0, len(y_test))\n",
    "        accuracy = accuracy_score(y_test, y_preds)\n",
    "        roc_auc = roc_auc_score(y_test, y_preds)\n",
    "\n",
    "        acc.append(accuracy)\n",
    "        roc.append(roc_auc)\n",
    "\n",
    "    print(np.average(acc), np.average(roc))"
   ]
  },
  {
   "cell_type": "code",
   "execution_count": 163,
   "metadata": {},
   "outputs": [
    {
     "name": "stdout",
     "output_type": "stream",
     "text": [
      "0.5535714285714285 0.5\n"
     ]
    }
   ],
   "source": [
    "run_baseline(df_final)"
   ]
  },
  {
   "cell_type": "code",
   "execution_count": 164,
   "metadata": {},
   "outputs": [],
   "source": [
    "def run_RF(df):\n",
    "\n",
    "    k_strat = StratifiedKFold(n_splits=2)\n",
    "    folds = k_strat.split(df[['pick','seasons','Int', 'power_5', 'G','Yds','TD']], df['successful'])\n",
    "    acc = []\n",
    "    roc = []\n",
    "    \n",
    "    for train, test in folds:\n",
    "        X_train, X_test = df[['pick','seasons','Int', 'power_5', 'G','Yds','TD']].iloc[train], df[['pick','seasons','Int', 'power_5', 'G','Yds','TD']].iloc[test]\n",
    "        y_train, y_test = df['successful'].values[train], df['successful'].values[test]\n",
    "\n",
    "        model = RandomForestClassifier()\n",
    "        model.fit(X_train, y_train)\n",
    "        \n",
    "        y_preds = model.predict(X_test)\n",
    "        y_proba = model.predict_proba(X_test)[:,1]\n",
    "        \n",
    "        accuracy = accuracy_score(y_preds, y_test)\n",
    "        roc_auc = roc_auc_score(y_test, y_proba)\n",
    "\n",
    "        print(accuracy)\n",
    "        print(roc_auc)\n",
    "        acc.append(accuracy)\n",
    "        roc.append(roc_auc)\n",
    "\n",
    "    print(np.average(acc), np.average(roc))"
   ]
  },
  {
   "cell_type": "code",
   "execution_count": 732,
   "metadata": {},
   "outputs": [],
   "source": [
    "df_final = load_data()"
   ]
  },
  {
   "cell_type": "code",
   "execution_count": 736,
   "metadata": {},
   "outputs": [
    {
     "name": "stdout",
     "output_type": "stream",
     "text": [
      "0.631578947368421\n",
      "0.6761363636363636\n",
      "0.47368421052631576\n",
      "0.6277777777777778\n",
      "0.5526315789473684 0.6519570707070708\n"
     ]
    }
   ],
   "source": [
    "run_RF(df_final)"
   ]
  },
  {
   "cell_type": "code",
   "execution_count": 250,
   "metadata": {},
   "outputs": [],
   "source": [
    "df_final.to_csv('first_round_features_responses.csv',index=False)"
   ]
  },
  {
   "cell_type": "code",
   "execution_count": 241,
   "metadata": {},
   "outputs": [
    {
     "data": {
      "text/plain": [
       "40"
      ]
     },
     "execution_count": 241,
     "metadata": {},
     "output_type": "execute_result"
    }
   ],
   "source": [
    "pd.read_csv('first_round_qb_training_data.csv').shape[0]"
   ]
  },
  {
   "cell_type": "code",
   "execution_count": 575,
   "metadata": {},
   "outputs": [],
   "source": [
    "def run_baseline(df):\n",
    "\n",
    "    k_strat = StratifiedKFold(n_splits=5, shuffle=False)\n",
    "    folds = k_strat.split(df.drop(['successful', 'season', 'AY/A', 'pick'],axis=1), df['successful'])\n",
    "    acc = []\n",
    "    roc = []\n",
    "    \n",
    "    for train, test in folds:\n",
    "        X_train, X_test = df.drop(['successful', 'season', 'AY/A', 'pick'],axis=1).iloc[train], df.drop(['successful', 'season', 'AY/A', 'pick'],axis=1).iloc[test]\n",
    "        y_train, y_test = df['successful'].values[train], df['successful'].values[test]\n",
    "\n",
    "        y_preds = np.tile(0, len(y_test))\n",
    "        accuracy = accuracy_score(y_test, y_preds)\n",
    "        roc_auc = roc_auc_score(y_test, y_preds)\n",
    "\n",
    "        acc.append(accuracy)\n",
    "        roc.append(roc_auc)\n",
    "\n",
    "    print(np.average(acc), np.average(roc))\n",
    "\n"
   ]
  },
  {
   "cell_type": "code",
   "execution_count": 1042,
   "metadata": {},
   "outputs": [
    {
     "name": "stdout",
     "output_type": "stream",
     "text": [
      "0.6666666666666666\n",
      "0.6571428571428571\n",
      "0.6285714285714286\n",
      "0.6666666666666666\n",
      "0.75\n",
      "0.7142857142857143\n"
     ]
    }
   ],
   "source": [
    "model = LogisticRegression()\n",
    "model.fit(X_train, y_train)\n",
    "y_preds_LR = model.predict(X_test)\n",
    "y_probs_LR = model.predict_proba(X_test)\n",
    "\n",
    "accuracy_LR = accuracy_score(y_test, y_preds_LR)\n",
    "roc_LR = roc_auc_score(y_test, y_probs_LR[:,1])\n",
    "print(accuracy_LR)\n",
    "print(roc_LR)\n",
    "\n",
    "model = SVC(kernel='linear', probability=True)\n",
    "model.fit(X_train, y_train)\n",
    "y_preds_SVC = model.predict(X_test)\n",
    "y_probs_SVC = model.predict_proba(X_test)[:,1]\n",
    "ROC = roc_auc_score(y_test, y_probs_SVC)\n",
    "\n",
    "y_preds_SVC = (y_preds_SVC >= .5).astype(int)\n",
    "accuracy_SVC = accuracy_score(y_test, y_preds_SVC)\n",
    "\n",
    "print(ROC)\n",
    "print(accuracy_SVC)\n",
    "\n",
    "model = RandomForestClassifier()\n",
    "model.fit(X_train, y_train)\n",
    "y_preds_RF = model.predict(X_test)\n",
    "y_probs_RF = model.predict_proba(X_test)\n",
    "\n",
    "accuracy_RF = accuracy_score(y_test, y_preds_RF)\n",
    "roc_RF = roc_auc_score(y_test, y_probs_RF[:,1])\n",
    "print(accuracy_RF)\n",
    "print(roc_RF)"
   ]
  },
  {
   "cell_type": "code",
   "execution_count": null,
   "metadata": {},
   "outputs": [],
   "source": []
  },
  {
   "cell_type": "code",
   "execution_count": null,
   "metadata": {},
   "outputs": [],
   "source": []
  },
  {
   "cell_type": "code",
   "execution_count": null,
   "metadata": {},
   "outputs": [],
   "source": []
  },
  {
   "cell_type": "code",
   "execution_count": 852,
   "metadata": {},
   "outputs": [],
   "source": [
    "from xgboost import XGBClassifier"
   ]
  },
  {
   "cell_type": "code",
   "execution_count": 865,
   "metadata": {},
   "outputs": [
    {
     "name": "stdout",
     "output_type": "stream",
     "text": [
      "0.6\n",
      "0.5833333333333333\n"
     ]
    }
   ],
   "source": [
    "model = XGBClassifier()\n",
    "model.fit(X_train, y_train)\n",
    "y_preds_RF = model.predict(X_test)\n",
    "y_probs_RF = model.predict_proba(X_test)\n",
    "\n",
    "accuracy_RF = accuracy_score(y_test, y_preds_RF)\n",
    "roc_RF = roc_auc_score(y_test, y_probs_RF[:,1])\n",
    "print(accuracy_RF)\n",
    "print(roc_RF)"
   ]
  },
  {
   "cell_type": "code",
   "execution_count": 1073,
   "metadata": {},
   "outputs": [
    {
     "name": "stdout",
     "output_type": "stream",
     "text": [
      "1/1 [==============================] - 0s 173ms/step - loss: 0.6997\n",
      "1/1 [==============================] - 0s 31ms/step\n",
      "0.6666666666666666\n"
     ]
    }
   ],
   "source": [
    "model = Sequential()\n",
    "\n",
    "model.add(Dense(units=32, input_dim=X_test.shape[1], activation='tanh'))\n",
    "model.add(Normalization())\n",
    "model.add(Dropout(.5))\n",
    "model.add(Dense(units=16, activation='tanh'))\n",
    "model.add(Normalization())\n",
    "model.add(Dense(units=1, activation='sigmoid'))\n",
    "\n",
    "model.compile(optimizer='adam', loss='binary_crossentropy')\n",
    "\n",
    "\n",
    "model.fit(X_train, y_train)\n",
    "y_preds_NN = model.predict(X_test)\n",
    "y_preds_NN = (y_preds_NN >= .5).astype(int)\n",
    "\n",
    "accuracy_NN = accuracy_score(y_test, y_preds_NN)\n",
    "\n",
    "print(accuracy_NN)"
   ]
  },
  {
   "cell_type": "code",
   "execution_count": 170,
   "metadata": {},
   "outputs": [
    {
     "data": {
      "text/plain": [
       "0.7142857142857143"
      ]
     },
     "execution_count": 170,
     "metadata": {},
     "output_type": "execute_result"
    }
   ],
   "source": [
    "accuracy_NN"
   ]
  },
  {
   "cell_type": "code",
   "execution_count": null,
   "metadata": {},
   "outputs": [],
   "source": []
  },
  {
   "cell_type": "code",
   "execution_count": null,
   "metadata": {},
   "outputs": [],
   "source": []
  },
  {
   "cell_type": "code",
   "execution_count": 126,
   "metadata": {},
   "outputs": [
    {
     "data": {
      "text/plain": [
       "0.5"
      ]
     },
     "execution_count": 126,
     "metadata": {},
     "output_type": "execute_result"
    }
   ],
   "source": [
    "accuracy_NN"
   ]
  }
 ],
 "metadata": {
  "kernelspec": {
   "display_name": "Python 3",
   "language": "python",
   "name": "python3"
  },
  "language_info": {
   "codemirror_mode": {
    "name": "ipython",
    "version": 3
   },
   "file_extension": ".py",
   "mimetype": "text/x-python",
   "name": "python",
   "nbconvert_exporter": "python",
   "pygments_lexer": "ipython3",
   "version": "3.11.1"
  }
 },
 "nbformat": 4,
 "nbformat_minor": 2
}
