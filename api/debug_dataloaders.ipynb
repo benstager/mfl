{
 "cells": [
  {
   "cell_type": "code",
   "execution_count": 46,
   "metadata": {},
   "outputs": [],
   "source": [
    "import numpy as np\n",
    "import pandas as pd\n",
    "import requests\n",
    "from bs4 import BeautifulSoup\n",
    "import time\n",
    "\n",
    "def scrape_NFL_REF_QB(player_name):\n",
    "\n",
    "    first_name = player_name.split(' ')[0].lower()\n",
    "    last_name = player_name.split(' ')[1].lower()\n",
    "    player_url = f'https://www.sports-reference.com/cfb/players/{first_name}-{last_name}-1.html'\n",
    "    html_content = requests.get(player_url).text\n",
    "    \n",
    "    # if player_name == 'Zach Wilson':\n",
    "    #     first_name = player_name.split(' ')[0].lower()\n",
    "    #     last_name = player_name.split(' ')[1].lower()\n",
    "    #     player_url = f'https://www.sports-reference.com/cfb/players/{first_name}-{last_name}-3.html'\n",
    "    #     html_content = requests.get(player_url).text\n",
    "        \n",
    "    # if player_name == 'Justin Fields' or player_name == 'Jordan Love':\n",
    "    #     first_name = player_name.split(' ')[0].lower()\n",
    "    #     last_name = player_name.split(' ')[1].lower()\n",
    "    #     player_url = f'https://www.sports-reference.com/cfb/players/{first_name}-{last_name}-2.html'\n",
    "    #     html_content = requests.get(player_url).text\n",
    "    \n",
    "    # if player_name == 'Daniel Jones':\n",
    "    #     first_name = player_name.split(' ')[0].lower()\n",
    "    #     last_name = player_name.split(' ')[1].lower()\n",
    "    #     player_url = f'https://www.sports-reference.com/cfb/players/{first_name}-{last_name}-4.html'\n",
    "    #     html_content = requests.get(player_url).text\n",
    "    \n",
    "    # if player_name == 'Josh Allen':\n",
    "    #     first_name = player_name.split(' ')[0].lower()\n",
    "    #     last_name = player_name.split(' ')[1].lower()\n",
    "    #     player_url = f'https://www.sports-reference.com/cfb/players/{first_name}-{last_name}-7.html'\n",
    "    #     html_content = requests.get(player_url).text\n",
    "\n",
    "    # if player_name == 'Mitchell Trubisky':\n",
    "    #     first_name = player_name.split(' ')[0].lower()\n",
    "    #     first_name = 'Mitch'\n",
    "    #     last_name = player_name.split(' ')[1].lower()\n",
    "    #     player_url = 'https://www.sports-reference.com/cfb/players/mitch-trubisky-1.html'\n",
    "    #     html_content = requests.get(player_url).text\n",
    "\n",
    "    if len(player_name.split(' ')) > 2:\n",
    "        first_name = player_name.split(' ')[0].lower()\n",
    "        last_name = player_name.split(' ')[1].lower()\n",
    "        suffix = player_name.split(' ')[2].lower()\n",
    "        player_url = f'https://www.sports-reference.com/cfb/players/{first_name}-{last_name}-{suffix}-1.html'\n",
    "        html_content = requests.get(player_url).text\n",
    "    \n",
    "\n",
    "    soup = BeautifulSoup(html_content, 'html.parser')\n",
    "    table = soup.find('table', {'id': 'passing_standard'})\n",
    "    return table\n",
    "\n",
    "    if not table:\n",
    "        for idx in range(2, 6):\n",
    "            time.sleep(3)\n",
    "            first_name = player_name.split(' ')[0].lower()\n",
    "            last_name = player_name.split(' ')[1].lower()\n",
    "            player_url = f'https://www.sports-reference.com/cfb/players/{first_name}-{last_name}-{idx}.html'\n",
    "            html_content = requests.get(player_url).text\n",
    "            \n",
    "            soup = BeautifulSoup(html_content, 'html.parser')\n",
    "            table = soup.find('table', {'id': 'passing_standard'})\n",
    "            \n",
    "            if not table:\n",
    "                print(f\"Passing stats table not found for {player_name}. Failed on index {idx}\")\n",
    "            else:\n",
    "                print(f\"Player found on index {idx}\")\n",
    "                break\n",
    "    \n",
    "    try:\n",
    "        baseline_headers = []\n",
    "        headers = [th.getText() for th in table.find_all('th')]\n",
    "        rows = []\n",
    "        for tr in table.find_all('tr')[1:]:\n",
    "            cells = [td.getText() for td in tr.find_all('td')]\n",
    "            if cells: \n",
    "                rows.append(cells)\n",
    "        \n",
    "        yr_college = len(rows) - 1\n",
    "\n",
    "        column_names = [\n",
    "        'G',        \n",
    "        'Cmp',      \n",
    "        'Att',      \n",
    "        'Cmp%',     \n",
    "        'Yds',      \n",
    "        'TD',       \n",
    "        'TD%',      \n",
    "        'Int',      \n",
    "        'Int%',     \n",
    "        'Y/A',      \n",
    "        'AY/A',     \n",
    "        'Y/C',      \n",
    "        'Y/G',      \n",
    "        'Rate',\n",
    "        'seasons',\n",
    "        'name'\n",
    "        ]\n",
    "        \n",
    "        totals = rows[len(rows) - 2]\n",
    "        return headers\n",
    "        totals = [stat for stat in totals if stat.strip()]\n",
    "        totals.append(yr_college)\n",
    "        totals.append(player_name)\n",
    "\n",
    "        if len(totals) == len(column_names):\n",
    "            final = pd.DataFrame({name: [value] for name, value in zip(column_names, totals)})\n",
    "        else:\n",
    "            print(\"Error: Number of stats does not match number of column names.\")\n",
    "\n",
    "        return final    \n",
    "    except:\n",
    "        print(f\"FAILED: On {player_name}\")"
   ]
  },
  {
   "cell_type": "code",
   "execution_count": 60,
   "metadata": {},
   "outputs": [],
   "source": [
    "tb = scrape_NFL_REF_QB('Jalen Milroe')"
   ]
  },
  {
   "cell_type": "code",
   "execution_count": 61,
   "metadata": {},
   "outputs": [
    {
     "data": {
      "text/plain": [
       "[<th aria-label=\"Season\" class=\"poptip center\" data-stat=\"year_id\" scope=\"col\">Season</th>,\n",
       " <th aria-label=\"Team\" class=\"poptip sort_default_asc center\" data-stat=\"team_name_abbr\" scope=\"col\">Team</th>,\n",
       " <th aria-label=\"Conf\" class=\"poptip sort_default_asc center\" data-stat=\"conf_abbr\" data-tip=\"Conference\" scope=\"col\">Conf</th>,\n",
       " <th aria-label=\"Class\" class=\"poptip center\" data-stat=\"class\" data-tip=\"Class\" scope=\"col\">Class</th>,\n",
       " <th aria-label=\"Pos\" class=\"poptip center\" data-stat=\"pos\" data-tip=\"Position\" scope=\"col\">Pos</th>,\n",
       " <th aria-label=\"G\" class=\"poptip center\" data-stat=\"games\" data-tip=\"&lt;strong&gt;Games played&lt;/strong&gt;&lt;br /&gt;Includes bowl games since 2002\" scope=\"col\">G</th>,\n",
       " <th aria-label=\"Cmp\" class=\"poptip center\" data-stat=\"pass_cmp\" data-tip=\"Passes completed\" scope=\"col\">Cmp</th>,\n",
       " <th aria-label=\"Att\" class=\"poptip center\" data-stat=\"pass_att\" data-tip=\"Passes attempted\" scope=\"col\">Att</th>,\n",
       " <th aria-label=\"Cmp%\" class=\"poptip hide_non_quals center\" data-filter=\"1\" data-name=\"\" data-stat=\"pass_cmp_pct\" data-tip=\"Percentage of Passes Completed&lt;br&gt;Minimum 14 attempts per scheduled game to qualify as leader.\" scope=\"col\">Cmp%</th>,\n",
       " <th aria-label=\"Yds\" class=\"poptip center\" data-stat=\"pass_yds\" data-tip=\"Yards Gained by Passing\" scope=\"col\">Yds</th>,\n",
       " <th aria-label=\"TD\" class=\"poptip center\" data-stat=\"pass_td\" data-tip=\"Passing Touchdowns\" scope=\"col\">TD</th>,\n",
       " <th aria-label=\"TD%\" class=\"poptip hide_non_quals center\" data-filter=\"1\" data-name=\"\" data-stat=\"pass_td_pct\" data-tip=\"Percentage of Touchdowns Thrown when Attempting to Pass\" scope=\"col\">TD%</th>,\n",
       " <th aria-label=\"Int\" class=\"poptip center\" data-stat=\"pass_int\" data-tip=\"Interceptions thrown\" scope=\"col\">Int</th>,\n",
       " <th aria-label=\"Int%\" class=\"poptip hide_non_quals center\" data-filter=\"1\" data-name=\"\" data-stat=\"pass_int_pct\" data-tip=\"Percentage of Times Intercepted when Attempting to Pass\" scope=\"col\">Int%</th>,\n",
       " <th aria-label=\"Y/A\" class=\"poptip hide_non_quals center\" data-filter=\"1\" data-name=\"\" data-stat=\"pass_yds_per_att\" data-tip=\"Yards gained per pass attempt\" scope=\"col\">Y/A</th>,\n",
       " <th aria-label=\"AY/A\" class=\"poptip hide_non_quals center\" data-filter=\"1\" data-name=\"\" data-stat=\"pass_adj_yds_per_att\" data-tip=\"Adjusted Yards gained per pass attempt&lt;br /&gt;(Passing Yards + 20 * Passing TD - 45 * Interceptions) / (Passes Attempted)\" scope=\"col\">AY/A</th>,\n",
       " <th aria-label=\"Y/C\" class=\"poptip hide_non_quals center\" data-filter=\"1\" data-name=\"\" data-stat=\"pass_yds_per_cmp\" data-tip=\"&lt;b&gt;Yards gained per pass completion&lt;/b&gt; (Passing Yards) / (Passes Completed)\" scope=\"col\">Y/C</th>,\n",
       " <th aria-label=\"Y/G\" class=\"poptip hide_non_quals center\" data-filter=\"1\" data-name=\"\" data-stat=\"pass_yds_per_g\" data-tip=\"Yards gained per game played\" scope=\"col\">Y/G</th>,\n",
       " <th aria-label=\"Rate\" class=\"poptip hide_non_quals center\" data-filter=\"1\" data-name=\"\" data-stat=\"pass_rating\" data-tip=\"Passing Efficiency Rating; the formula is (8.4 * Yds + 330 * TD - 200 * Int + 100 * Cmp) / Att\" scope=\"col\">Rate</th>,\n",
       " <th aria-label=\"Awards\" class=\"poptip sort_default_asc center\" data-stat=\"awards\" scope=\"col\">Awards</th>,\n",
       " <th class=\"left\" data-stat=\"year_id\" scope=\"row\"><a href=\"/cfb/players/jalen-milroe-1/gamelog/2021/\">2021</a>*</th>,\n",
       " <th class=\"left\" data-stat=\"year_id\" scope=\"row\"><a href=\"/cfb/players/jalen-milroe-1/gamelog/2022/\">2022</a>*</th>,\n",
       " <th class=\"left\" data-stat=\"year_id\" scope=\"row\"><a href=\"/cfb/players/jalen-milroe-1/gamelog/2023/\">2023</a>*</th>,\n",
       " <th class=\"left\" data-stat=\"year_id\" scope=\"row\"><a href=\"/cfb/players/jalen-milroe-1/gamelog/2024/\">2024</a>*</th>,\n",
       " <th class=\"left\" colspan=\"4\" data-stat=\"year_id\" scope=\"row\">Career</th>]"
      ]
     },
     "execution_count": 61,
     "metadata": {},
     "output_type": "execute_result"
    }
   ],
   "source": [
    "tb.find_all('th')"
   ]
  },
  {
   "cell_type": "code",
   "execution_count": 62,
   "metadata": {},
   "outputs": [],
   "source": [
    "headers = [th.getText() for th in tb.find_all('th')]"
   ]
  },
  {
   "cell_type": "code",
   "execution_count": 67,
   "metadata": {},
   "outputs": [
    {
     "data": {
      "text/plain": [
       "['2021*', '2022*', '2023*', '2024*']"
      ]
     },
     "execution_count": 67,
     "metadata": {},
     "output_type": "execute_result"
    }
   ],
   "source": [
    "[i for i in headers if '2' in i]"
   ]
  }
 ],
 "metadata": {
  "kernelspec": {
   "display_name": "Python 3",
   "language": "python",
   "name": "python3"
  },
  "language_info": {
   "codemirror_mode": {
    "name": "ipython",
    "version": 3
   },
   "file_extension": ".py",
   "mimetype": "text/x-python",
   "name": "python",
   "nbconvert_exporter": "python",
   "pygments_lexer": "ipython3",
   "version": "3.11.9"
  }
 },
 "nbformat": 4,
 "nbformat_minor": 2
}
